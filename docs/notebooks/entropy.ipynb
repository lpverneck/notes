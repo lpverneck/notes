{
 "cells": [
  {
   "cell_type": "code",
   "execution_count": 1,
   "id": "0277080b-6129-484f-b56d-9181e0471626",
   "metadata": {},
   "outputs": [],
   "source": [
    "import math\n",
    "import numpy as np\n",
    "import pandas as pd\n",
    "from typing import Tuple"
   ]
  },
  {
   "cell_type": "markdown",
   "id": "bf7e5e53-4ca3-4829-8deb-f3ce04b4818d",
   "metadata": {},
   "source": [
    "## Shannon Entropy\n",
    "\n",
    "The Shannon entropy is a statistical quantifier extensively used for the characterization of complex systems. It can be interpreted as:\n",
    "\n",
    "- __Measure of Uncertainty:__ It quantifies the unpredictability of information content. Higher entropy indicates greater uncertainty or variability in the outcomes of a random variable.\n",
    "- __Information Content:__ It represents the average number of bits needed to encode messages from a source. A source with uniform probability distribution (where all outcomes are equally likely) has maximum entropy, while a deterministic source (where one outcome is certain) has zero entropy.\n",
    "\n",
    "$$H(s) = -\\sum_{i=1} P_i \\log_2 P_i$$"
   ]
  },
  {
   "cell_type": "markdown",
   "id": "dbc2080d-ae15-4d92-867e-7ecac78c07ce",
   "metadata": {},
   "source": [
    "When observed over time, the entropy is frequently used for anomalies detection. Expressive variations in the entropy $H(s)$ levels of a system can indicate a significant change in the system itself.\n",
    "$$\\Delta H(s) = H(s)_{t+1} - H(s)_{t}$$"
   ]
  },
  {
   "cell_type": "code",
   "execution_count": 2,
   "id": "9bed2a0c-aafe-435a-8e56-8c6c523893f1",
   "metadata": {},
   "outputs": [],
   "source": [
    "def message_entropy(msg: str, base: int = 2) -> Tuple:\n",
    "    \"\"\"Calculates the Shannon entropy of a string message.\"\"\"\n",
    "    add = 0\n",
    "    symbols = {}\n",
    "    n = len(msg)\n",
    "    chars = set(list(msg))\n",
    "    for char in chars:\n",
    "        proba = msg.count(char) / n\n",
    "        add += proba * math.log(proba, base)\n",
    "        symbols[char] = proba\n",
    "    return add * -1, symbols"
   ]
  },
  {
   "cell_type": "code",
   "execution_count": 3,
   "id": "62e0ed25-c5dc-43aa-b06d-ddbd4552d982",
   "metadata": {},
   "outputs": [
    {
     "name": "stdout",
     "output_type": "stream",
     "text": [
      "Entropy: 2.4464\n",
      "Symbols: {'u': 0.2, 'f': 0.1, 'l': 0.1, 's': 0.3, 'c': 0.2, 'e': 0.1}\n"
     ]
    }
   ],
   "source": [
    "h, symbols = message_entropy(msg=\"successful\", base=2)\n",
    "print(f\"Entropy: {h:.4f}\\nSymbols: {symbols}\")"
   ]
  },
  {
   "cell_type": "code",
   "execution_count": 4,
   "id": "373bf04c-fc72-45eb-86c3-bd6b920566ea",
   "metadata": {},
   "outputs": [
    {
     "name": "stdout",
     "output_type": "stream",
     "text": [
      "Entropy: 0.9464\n",
      "Symbols: {'u': 0.2, 'f': 0.1, 'l': 0.1, 's': 0.3, 'c': 0.2, 'e': 0.1}\n"
     ]
    }
   ],
   "source": [
    "h, symbols = message_entropy(msg=\"successful\", base=6)\n",
    "print(f\"Entropy: {h:.4f}\\nSymbols: {symbols}\")"
   ]
  },
  {
   "cell_type": "code",
   "execution_count": 5,
   "id": "bad6f51a-ea9e-493c-9758-9d6469377e3e",
   "metadata": {},
   "outputs": [
    {
     "name": "stdout",
     "output_type": "stream",
     "text": [
      "Entropy: 1.9219\n",
      "Symbols: {'E': 0.2, 'O': 0.2, 'L': 0.4, 'H': 0.2}\n"
     ]
    }
   ],
   "source": [
    "h, symbols = message_entropy(msg=\"HELLO\", base=2)\n",
    "print(f\"Entropy: {h:.4f}\\nSymbols: {symbols}\")"
   ]
  },
  {
   "cell_type": "markdown",
   "id": "92108790-cce3-4b51-ae74-e3a1b0d67fbc",
   "metadata": {},
   "source": [
    "- 1.92 (~ 2) bits needed for encode each symbol in the message.\n",
    "\n",
    "| Symbol | Code |\n",
    "|--------|------|\n",
    "| H      | 00   |\n",
    "| E      | 01   |\n",
    "| L      | 10   |\n",
    "| O      | 11   |"
   ]
  },
  {
   "cell_type": "markdown",
   "id": "f1319d11-c9db-4abc-98a0-933813f2829e",
   "metadata": {},
   "source": [
    "## Entropy Rate of a Markov Chain"
   ]
  },
  {
   "cell_type": "code",
   "execution_count": 6,
   "id": "bcb330b6-0e94-4f84-a304-b37a63c646f9",
   "metadata": {},
   "outputs": [
    {
     "data": {
      "text/html": [
       "<div>\n",
       "<style scoped>\n",
       "    .dataframe tbody tr th:only-of-type {\n",
       "        vertical-align: middle;\n",
       "    }\n",
       "\n",
       "    .dataframe tbody tr th {\n",
       "        vertical-align: top;\n",
       "    }\n",
       "\n",
       "    .dataframe thead th {\n",
       "        text-align: right;\n",
       "    }\n",
       "</style>\n",
       "<table border=\"1\" class=\"dataframe\">\n",
       "  <thead>\n",
       "    <tr style=\"text-align: right;\">\n",
       "      <th></th>\n",
       "      <th>State 1</th>\n",
       "      <th>State 2</th>\n",
       "      <th>State 3</th>\n",
       "    </tr>\n",
       "  </thead>\n",
       "  <tbody>\n",
       "    <tr>\n",
       "      <th>(Origin) State 1</th>\n",
       "      <td>0.00</td>\n",
       "      <td>1.0</td>\n",
       "      <td>0.00</td>\n",
       "    </tr>\n",
       "    <tr>\n",
       "      <th>(Origin) State 2</th>\n",
       "      <td>0.25</td>\n",
       "      <td>0.5</td>\n",
       "      <td>0.25</td>\n",
       "    </tr>\n",
       "    <tr>\n",
       "      <th>(Origin) State 3</th>\n",
       "      <td>0.50</td>\n",
       "      <td>0.5</td>\n",
       "      <td>0.00</td>\n",
       "    </tr>\n",
       "  </tbody>\n",
       "</table>\n",
       "</div>"
      ],
      "text/plain": [
       "                  State 1  State 2  State 3\n",
       "(Origin) State 1     0.00      1.0     0.00\n",
       "(Origin) State 2     0.25      0.5     0.25\n",
       "(Origin) State 3     0.50      0.5     0.00"
      ]
     },
     "execution_count": 6,
     "metadata": {},
     "output_type": "execute_result"
    }
   ],
   "source": [
    "adj_mat_A = np.array([[0, 1, 0], [0.25, 0.5, 0.25], [0.5, 0.5, 0]])\n",
    "pd.DataFrame(\n",
    "    adj_mat_A,\n",
    "    index=[\"(Origin) State 1\", \"(Origin) State 2\", \"(Origin) State 3\"],\n",
    "    columns=[\"State 1\", \"State 2\", \"State 3\"],\n",
    ")"
   ]
  },
  {
   "cell_type": "code",
   "execution_count": 7,
   "id": "83e9f94c-ef79-45b5-9699-37bf2ad6a282",
   "metadata": {},
   "outputs": [
    {
     "data": {
      "text/html": [
       "<div>\n",
       "<style scoped>\n",
       "    .dataframe tbody tr th:only-of-type {\n",
       "        vertical-align: middle;\n",
       "    }\n",
       "\n",
       "    .dataframe tbody tr th {\n",
       "        vertical-align: top;\n",
       "    }\n",
       "\n",
       "    .dataframe thead th {\n",
       "        text-align: right;\n",
       "    }\n",
       "</style>\n",
       "<table border=\"1\" class=\"dataframe\">\n",
       "  <thead>\n",
       "    <tr style=\"text-align: right;\">\n",
       "      <th></th>\n",
       "      <th>State 1</th>\n",
       "      <th>State 2</th>\n",
       "      <th>State 3</th>\n",
       "    </tr>\n",
       "  </thead>\n",
       "  <tbody>\n",
       "    <tr>\n",
       "      <th>(Origin) State 1</th>\n",
       "      <td>0.00</td>\n",
       "      <td>1.00</td>\n",
       "      <td>0.00</td>\n",
       "    </tr>\n",
       "    <tr>\n",
       "      <th>(Origin) State 2</th>\n",
       "      <td>0.05</td>\n",
       "      <td>0.90</td>\n",
       "      <td>0.05</td>\n",
       "    </tr>\n",
       "    <tr>\n",
       "      <th>(Origin) State 3</th>\n",
       "      <td>0.05</td>\n",
       "      <td>0.95</td>\n",
       "      <td>0.00</td>\n",
       "    </tr>\n",
       "  </tbody>\n",
       "</table>\n",
       "</div>"
      ],
      "text/plain": [
       "                  State 1  State 2  State 3\n",
       "(Origin) State 1     0.00     1.00     0.00\n",
       "(Origin) State 2     0.05     0.90     0.05\n",
       "(Origin) State 3     0.05     0.95     0.00"
      ]
     },
     "execution_count": 7,
     "metadata": {},
     "output_type": "execute_result"
    }
   ],
   "source": [
    "# changing the system's probabilities\n",
    "adj_mat_B = np.array([[0, 1, 0], [0.05, 0.9, 0.05], [0.05, 0.95, 0]])\n",
    "pd.DataFrame(\n",
    "    adj_mat_B,\n",
    "    index=[\"(Origin) State 1\", \"(Origin) State 2\", \"(Origin) State 3\"],\n",
    "    columns=[\"State 1\", \"State 2\", \"State 3\"],\n",
    ")"
   ]
  },
  {
   "cell_type": "code",
   "execution_count": 8,
   "id": "59841abc-36a0-4bf7-b8d7-d2c08f6a3fcb",
   "metadata": {},
   "outputs": [
    {
     "data": {
      "text/html": [
       "<div>\n",
       "<style scoped>\n",
       "    .dataframe tbody tr th:only-of-type {\n",
       "        vertical-align: middle;\n",
       "    }\n",
       "\n",
       "    .dataframe tbody tr th {\n",
       "        vertical-align: top;\n",
       "    }\n",
       "\n",
       "    .dataframe thead th {\n",
       "        text-align: right;\n",
       "    }\n",
       "</style>\n",
       "<table border=\"1\" class=\"dataframe\">\n",
       "  <thead>\n",
       "    <tr style=\"text-align: right;\">\n",
       "      <th></th>\n",
       "      <th>State 1</th>\n",
       "      <th>State 2</th>\n",
       "      <th>State 3</th>\n",
       "      <th>State 4</th>\n",
       "    </tr>\n",
       "  </thead>\n",
       "  <tbody>\n",
       "    <tr>\n",
       "      <th>(Origin) State 1</th>\n",
       "      <td>0.000</td>\n",
       "      <td>1.00</td>\n",
       "      <td>0.000</td>\n",
       "      <td>0.00</td>\n",
       "    </tr>\n",
       "    <tr>\n",
       "      <th>(Origin) State 2</th>\n",
       "      <td>0.025</td>\n",
       "      <td>0.80</td>\n",
       "      <td>0.025</td>\n",
       "      <td>0.15</td>\n",
       "    </tr>\n",
       "    <tr>\n",
       "      <th>(Origin) State 3</th>\n",
       "      <td>0.050</td>\n",
       "      <td>0.95</td>\n",
       "      <td>0.000</td>\n",
       "      <td>0.00</td>\n",
       "    </tr>\n",
       "    <tr>\n",
       "      <th>(Origin) State 4</th>\n",
       "      <td>0.000</td>\n",
       "      <td>0.00</td>\n",
       "      <td>0.000</td>\n",
       "      <td>0.00</td>\n",
       "    </tr>\n",
       "  </tbody>\n",
       "</table>\n",
       "</div>"
      ],
      "text/plain": [
       "                  State 1  State 2  State 3  State 4\n",
       "(Origin) State 1    0.000     1.00    0.000     0.00\n",
       "(Origin) State 2    0.025     0.80    0.025     0.15\n",
       "(Origin) State 3    0.050     0.95    0.000     0.00\n",
       "(Origin) State 4    0.000     0.00    0.000     0.00"
      ]
     },
     "execution_count": 8,
     "metadata": {},
     "output_type": "execute_result"
    }
   ],
   "source": [
    "# adding a new state\n",
    "adj_mat_C = np.array(\n",
    "    [[0, 1, 0, 0], [0.025, 0.8, 0.025, 0.15], [0.05, 0.95, 0, 0], [0, 0, 0, 0]]\n",
    ")\n",
    "pd.DataFrame(\n",
    "    adj_mat_C,\n",
    "    index=[\n",
    "        \"(Origin) State 1\",\n",
    "        \"(Origin) State 2\",\n",
    "        \"(Origin) State 3\",\n",
    "        \"(Origin) State 4\",\n",
    "    ],\n",
    "    columns=[\"State 1\", \"State 2\", \"State 3\", \"State 4\"],\n",
    ")"
   ]
  },
  {
   "cell_type": "code",
   "execution_count": 9,
   "id": "85752dc8-1a7c-434e-96c8-5d9b89430c04",
   "metadata": {},
   "outputs": [],
   "source": [
    "def estimate_markov_chain_entropy_rate(adj_mat: np.array) -> float:\n",
    "    \"\"\"Calculates the Shannon entropy for a Markov Chain given your\n",
    "    adjacency matrix representation.\"\"\"\n",
    "    m = adj_mat + 1e-10\n",
    "    m_norm = np.apply_along_axis(\n",
    "        arr=m, func1d=lambda row: row / sum(row), axis=1\n",
    "    )\n",
    "    return -1 * np.sum(m_norm * np.log2(m_norm))"
   ]
  },
  {
   "cell_type": "code",
   "execution_count": 10,
   "id": "4179df9c-3264-40c2-9547-8fb7f084d25f",
   "metadata": {},
   "outputs": [
    {
     "data": {
      "text/plain": [
       "2.5000000103485926"
      ]
     },
     "execution_count": 10,
     "metadata": {},
     "output_type": "execute_result"
    }
   ],
   "source": [
    "estimate_markov_chain_entropy_rate(adj_mat_A)"
   ]
  },
  {
   "cell_type": "code",
   "execution_count": 11,
   "id": "d9fc42a8-ba5a-4281-a03d-772a35cd4020",
   "metadata": {},
   "outputs": [
    {
     "data": {
      "text/plain": [
       "0.8553925621663911"
      ]
     },
     "execution_count": 11,
     "metadata": {},
     "output_type": "execute_result"
    }
   ],
   "source": [
    "estimate_markov_chain_entropy_rate(adj_mat_B)"
   ]
  },
  {
   "cell_type": "code",
   "execution_count": 12,
   "id": "58d1faf4-0a25-4ac0-9bdd-6da03c10648f",
   "metadata": {},
   "outputs": [
    {
     "data": {
      "text/plain": [
       "3.2205806955477687"
      ]
     },
     "execution_count": 12,
     "metadata": {},
     "output_type": "execute_result"
    }
   ],
   "source": [
    "estimate_markov_chain_entropy_rate(adj_mat_C)"
   ]
  },
  {
   "cell_type": "markdown",
   "id": "8e680c11-cc9d-4ded-92ed-b8d242629379",
   "metadata": {},
   "source": [
    "There are two possibilities for changes in a system represented by Markov chains:\n",
    "\n",
    "- Without new states creation - __Temporal entropy variation__\n",
    "- With new states creation - __Spatial entropy variation__ (have a greater impact on entropy variation)\n",
    "\n",
    "This strategy can be used to monitor concept drift in both the __pre-modeling__ and __post-modeling__ phases by detecting changes in a model's response."
   ]
  },
  {
   "cell_type": "markdown",
   "id": "ed72b572-f085-4842-87e9-79f7053ee69d",
   "metadata": {},
   "source": [
    "## Spatial Entropy\n",
    "\n",
    "Moreover, as proposed by Von Neumann, the Shannon entropy can be used to describe the spatial etropy and thus serving as a criterion for choosing spaces.\n",
    "\n",
    "Using normalized eigenvalues from Principal Component Analysis (PCA) as probabilities to estimate the entropy of a data space involves several key steps. This technique leverages the relationship between eigenvalues, variance, and information content in datasets.\n",
    "\n",
    "The spatial entropy value provides insight into the complexity or disorder within the dataset. A higher entropy indicates a more complex structure with less predictability, while lower entropy suggests a more ordered and predictable structure."
   ]
  }
 ],
 "metadata": {
  "kernelspec": {
   "display_name": "Python 3 (ipykernel)",
   "language": "python",
   "name": "python3"
  },
  "language_info": {
   "codemirror_mode": {
    "name": "ipython",
    "version": 3
   },
   "file_extension": ".py",
   "mimetype": "text/x-python",
   "name": "python",
   "nbconvert_exporter": "python",
   "pygments_lexer": "ipython3",
   "version": "3.12.4"
  }
 },
 "nbformat": 4,
 "nbformat_minor": 5
}
