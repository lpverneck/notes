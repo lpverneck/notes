{
 "cells": [
  {
   "cell_type": "markdown",
   "id": "5312aba8-f5e3-4735-8c79-7a8b675eab19",
   "metadata": {},
   "source": [
    "A/B testing, also known as split testing, is a statistical method used in data science to compare two versions of a product, webpage, or marketing campaign to determine which one performs better based on a specific metric. This approach allows data scientists and marketers to make data-driven decisions rather than relying on intuition or guesswork."
   ]
  },
  {
   "cell_type": "markdown",
   "id": "4be86bd5-fc60-4581-b1ae-999a75b47ec0",
   "metadata": {},
   "source": [
    "## A/B Testing Procedure\n",
    "\n",
    "1. __Problem Statement__ - What is the goal of the experiment ?\n",
    "2. __Hypothesis Testing__ - What result do you hypothesize from the experiment?\n",
    "3. __Design the Experiment__ - What are the experiment parameters ?\n",
    "4. __Run the Experiment__ - What are the requirements for running it ?\n",
    "5. __Validity Checks__ - Did the experiment run soundly without errors or bias?\n",
    "6. __Interpret the Results__ - Is the metric significant statistically and practically?\n",
    "7. __Launch Decision__ - Take action based on the experiment results\n",
    "\n",
    "## Tips\n",
    "\n",
    "- Talk about the business goal first (user journey)\n",
    "- Use the user funnel to create the success metric\n",
    "- A success metric must be: measurable, attributable, sensitive and timely\n",
    "\n",
    "## Example\n",
    "\n",
    "A web store wants to change the product ranking recommendation system.\n",
    "\n",
    "- __Success Metric__: revenue per day per user\n",
    "- __Null Hypothesis ($Ho$)__: the average revenue per day per user between the baseline and variant ranking algorithms are the same\n",
    "- __Alternative Hypothesis ($Ha$)__: the average revenue per day per user between the baseline and variant ranking algorithms are different\n",
    "- __Significance Level ($\\alpha = 0.05$)__: If the P-value is $< \\alpha$, then reject $Ho$ and conclude $Ha$. $\\alpha = P(Type 1 | Error Rate)$\n",
    "- __Statistical Power ($= 0.80$)__: The probability of detecting an effect if the alternative hypothesis is true.\n",
    "- __Minimum Detectable Effect ($MDE = 1\\%$ lift)__: If the change is at least 1% higher in revenue per day per user then it is practically significant."
   ]
  },
  {
   "cell_type": "markdown",
   "id": "768e0e86-9a03-4128-9424-1d4c3153058d",
   "metadata": {},
   "source": [
    "- Set the randomization unit: User\n",
    "- Target population in the experiment: Visitors who searches a product\n",
    "- Determine the sample size\n",
    "$$n \\approx \\frac{16\\sigma^{2}}{\\delta^{2}}$$\n",
    "Where $\\sigma$ is the sample standard deviation and $\\delta$ is the difference between the control and treatment. (Based on $\\alpha=0.05$ and $power=0.80$)\n",
    "- Duration of the experiment\n",
    "- Run experiment\n",
    "  - Set up instruments and data pipelines to collect data\n",
    "  - Avoid peeking p-values\n",
    "- Validity checks (check for bias)\n",
    "  - Check for instrumentation effects\n",
    "  - External factors\n",
    "  - Selection bias\n",
    "  - Sample ratio mismatch (Chi-Square Goodness of Fit Test)\n",
    "  - Novelty effect (Segment by new and old visitors)"
   ]
  },
  {
   "cell_type": "markdown",
   "id": "2dc76789-891e-4f95-bc7d-92c77c75d09f",
   "metadata": {},
   "source": [
    "- Interpret the results\n",
    "- Launch decision\n",
    "  - Metric trade-offs\n",
    "  - Cost of launching\n"
   ]
  },
  {
   "cell_type": "markdown",
   "id": "318ae4cc-f23e-4366-a849-80032fe882c3",
   "metadata": {},
   "source": [
    "| Tests     |  Metrics  | Absolute Difference | Relative Difference | P-Value | Confidence Interval |\n",
    "|-----------|-----------|---------------------|---------------------|---------|---------------------|\n",
    "| Control   | 25.00  |  1.10              | 4.40 %              | 0.001   | (3.40 %, 5.40 %)    |\n",
    "| Treatment | 26.10 |  1.10              | 4.40 %              | 0.001   | (3.40 %, 5.40 %)    |"
   ]
  },
  {
   "cell_type": "markdown",
   "id": "8cfd386d-d629-4ecc-ae32-ee9140f4ad81",
   "metadata": {},
   "source": [
    "## Statistical Tests\n",
    "\n",
    "### Discrete Metrics\n",
    "\n",
    "- Fisher's exact test\n",
    "- Pearson's chi-squared test\n",
    "\n",
    "### Continous Metrics\n",
    "- Z-test\n",
    "- Student's t-test\n",
    "- Welch's t-test\n",
    "- Mann-Whitney U test"
   ]
  },
  {
   "cell_type": "code",
   "execution_count": 1,
   "id": "dd95af6c",
   "metadata": {
    "vscode": {
     "languageId": "plaintext"
    }
   },
   "outputs": [],
   "source": [
    "import pandas as pd\n",
    "import numpy as np\n",
    "from scipy.stats import norm\n",
    "\n",
    "np.random.seed(42)"
   ]
  },
  {
   "cell_type": "markdown",
   "id": "9d46f66b-5057-41af-a5a5-ff72a133a541",
   "metadata": {},
   "source": [
    "### Simulating click data for A/B testing"
   ]
  },
  {
   "cell_type": "code",
   "execution_count": 2,
   "id": "f333076d-791b-4d06-9620-2c6bcde0b62f",
   "metadata": {},
   "outputs": [],
   "source": [
    "N_experiment = 10000\n",
    "N_control = 10000\n",
    "\n",
    "click_experiment = pd.Series(np.random.binomial(1, 0.5, size=N_experiment))\n",
    "click_control = pd.Series(np.random.binomial(1, 0.2, size=N_control))"
   ]
  },
  {
   "cell_type": "code",
   "execution_count": 3,
   "id": "be3ebe7b-b154-4fe3-b5fd-32a608697c26",
   "metadata": {},
   "outputs": [
    {
     "data": {
      "text/html": [
       "<div>\n",
       "<style scoped>\n",
       "    .dataframe tbody tr th:only-of-type {\n",
       "        vertical-align: middle;\n",
       "    }\n",
       "\n",
       "    .dataframe tbody tr th {\n",
       "        vertical-align: top;\n",
       "    }\n",
       "\n",
       "    .dataframe thead th {\n",
       "        text-align: right;\n",
       "    }\n",
       "</style>\n",
       "<table border=\"1\" class=\"dataframe\">\n",
       "  <thead>\n",
       "    <tr style=\"text-align: right;\">\n",
       "      <th></th>\n",
       "      <th>Click</th>\n",
       "      <th>Group Label</th>\n",
       "    </tr>\n",
       "  </thead>\n",
       "  <tbody>\n",
       "    <tr>\n",
       "      <th>0</th>\n",
       "      <td>0</td>\n",
       "      <td>Experiment</td>\n",
       "    </tr>\n",
       "    <tr>\n",
       "      <th>1</th>\n",
       "      <td>1</td>\n",
       "      <td>Experiment</td>\n",
       "    </tr>\n",
       "    <tr>\n",
       "      <th>2</th>\n",
       "      <td>1</td>\n",
       "      <td>Experiment</td>\n",
       "    </tr>\n",
       "    <tr>\n",
       "      <th>3</th>\n",
       "      <td>1</td>\n",
       "      <td>Experiment</td>\n",
       "    </tr>\n",
       "    <tr>\n",
       "      <th>4</th>\n",
       "      <td>0</td>\n",
       "      <td>Experiment</td>\n",
       "    </tr>\n",
       "    <tr>\n",
       "      <th>...</th>\n",
       "      <td>...</td>\n",
       "      <td>...</td>\n",
       "    </tr>\n",
       "    <tr>\n",
       "      <th>19995</th>\n",
       "      <td>1</td>\n",
       "      <td>Control</td>\n",
       "    </tr>\n",
       "    <tr>\n",
       "      <th>19996</th>\n",
       "      <td>0</td>\n",
       "      <td>Control</td>\n",
       "    </tr>\n",
       "    <tr>\n",
       "      <th>19997</th>\n",
       "      <td>0</td>\n",
       "      <td>Control</td>\n",
       "    </tr>\n",
       "    <tr>\n",
       "      <th>19998</th>\n",
       "      <td>0</td>\n",
       "      <td>Control</td>\n",
       "    </tr>\n",
       "    <tr>\n",
       "      <th>19999</th>\n",
       "      <td>0</td>\n",
       "      <td>Control</td>\n",
       "    </tr>\n",
       "  </tbody>\n",
       "</table>\n",
       "<p>20000 rows × 2 columns</p>\n",
       "</div>"
      ],
      "text/plain": [
       "       Click Group Label\n",
       "0          0  Experiment\n",
       "1          1  Experiment\n",
       "2          1  Experiment\n",
       "3          1  Experiment\n",
       "4          0  Experiment\n",
       "...      ...         ...\n",
       "19995      1     Control\n",
       "19996      0     Control\n",
       "19997      0     Control\n",
       "19998      0     Control\n",
       "19999      0     Control\n",
       "\n",
       "[20000 rows x 2 columns]"
      ]
     },
     "execution_count": 3,
     "metadata": {},
     "output_type": "execute_result"
    }
   ],
   "source": [
    "df = pd.concat(\n",
    "    [\n",
    "        pd.DataFrame(\n",
    "            {\n",
    "                \"Click\": click_experiment,\n",
    "                \"Group Label\": \"Experiment\",\n",
    "            }\n",
    "        ),\n",
    "        pd.DataFrame(\n",
    "            {\n",
    "                \"Click\": click_control,\n",
    "                \"Group Label\": \"Control\",\n",
    "            }\n",
    "        ),\n",
    "    ]\n",
    ").reset_index(drop=True)\n",
    "df"
   ]
  },
  {
   "cell_type": "code",
   "execution_count": 4,
   "id": "d0f11cf5-18a4-4b82-9afd-8e9c62e1f121",
   "metadata": {},
   "outputs": [
    {
     "name": "stdout",
     "output_type": "stream",
     "text": [
      "# Clicks in 'Control' group: 2033\n",
      "# Clicks in 'Experiment' group: 4924\n"
     ]
    }
   ],
   "source": [
    "X_experiment = df.groupby(\"Group Label\")[\"Click\"].sum().loc[\"Experiment\"]\n",
    "X_control = df.groupby(\"Group Label\")[\"Click\"].sum().loc[\"Control\"]\n",
    "print(\n",
    "    f\"# Clicks in 'Control' group: {X_control}\\n# Clicks in 'Experiment' group: {X_experiment}\"\n",
    ")"
   ]
  },
  {
   "cell_type": "code",
   "execution_count": 5,
   "id": "a4f95593-5598-447a-8b1e-d018bcfdbd25",
   "metadata": {},
   "outputs": [
    {
     "name": "stdout",
     "output_type": "stream",
     "text": [
      "Click probability in 'Control' group: 0.2033\n",
      "Click probability in 'Experiment' group: 0.4924\n"
     ]
    }
   ],
   "source": [
    "# calculating probabilities\n",
    "p_experiment_hat = X_experiment / N_experiment\n",
    "p_control_hat = X_control / N_control\n",
    "print(\n",
    "    f\"Click probability in 'Control' group: {p_control_hat}\\nClick probability in 'Experiment' group: {p_experiment_hat}\"\n",
    ")"
   ]
  },
  {
   "cell_type": "code",
   "execution_count": 6,
   "id": "2d1656f9-5970-4d16-a1a4-e2b8f5eed375",
   "metadata": {},
   "outputs": [],
   "source": [
    "p_pooled_hat = (X_control + X_experiment) / (N_control + N_experiment)\n",
    "pooled_variance = (\n",
    "    p_pooled_hat * (1 - p_pooled_hat) * (1 / N_control + 1 / N_experiment)\n",
    ")"
   ]
  },
  {
   "cell_type": "code",
   "execution_count": 7,
   "id": "745a3795-4d44-4665-addf-1e64116a29a8",
   "metadata": {},
   "outputs": [
    {
     "name": "stdout",
     "output_type": "stream",
     "text": [
      "Standard Error: 0.00673573125206165\n"
     ]
    }
   ],
   "source": [
    "SE = np.sqrt(pooled_variance)\n",
    "print(f\"Standard Error: {SE}\")"
   ]
  },
  {
   "cell_type": "code",
   "execution_count": 8,
   "id": "4937a4ab-7d7d-413d-826e-18343e77697a",
   "metadata": {},
   "outputs": [
    {
     "data": {
      "text/plain": [
       "-42.92035848542996"
      ]
     },
     "execution_count": 8,
     "metadata": {},
     "output_type": "execute_result"
    }
   ],
   "source": [
    "test_stat = (p_control_hat - p_experiment_hat) / SE\n",
    "# z test\n",
    "test_stat"
   ]
  },
  {
   "cell_type": "code",
   "execution_count": 9,
   "id": "b60bdbb5-350f-427f-b566-1a4d081412ed",
   "metadata": {},
   "outputs": [],
   "source": [
    "alpha = 0.05"
   ]
  },
  {
   "cell_type": "code",
   "execution_count": 10,
   "id": "4ad25754-be6a-4797-8000-4c7e4291e296",
   "metadata": {},
   "outputs": [
    {
     "data": {
      "text/plain": [
       "1.959963984540054"
      ]
     },
     "execution_count": 10,
     "metadata": {},
     "output_type": "execute_result"
    }
   ],
   "source": [
    "z_crit = norm.ppf(1 - alpha / 2)\n",
    "z_crit"
   ]
  },
  {
   "cell_type": "code",
   "execution_count": 11,
   "id": "745d1084-22f8-4e74-a2f7-e4fc93d9d504",
   "metadata": {},
   "outputs": [
    {
     "data": {
      "text/plain": [
       "0.0"
      ]
     },
     "execution_count": 11,
     "metadata": {},
     "output_type": "execute_result"
    }
   ],
   "source": [
    "p_val = 2 * norm.sf(abs(test_stat))\n",
    "p_val"
   ]
  },
  {
   "cell_type": "code",
   "execution_count": 12,
   "id": "7843578f-6903-49b0-a7ee-454110387357",
   "metadata": {},
   "outputs": [
    {
     "name": "stdout",
     "output_type": "stream",
     "text": [
      "Reject Ho !\n"
     ]
    }
   ],
   "source": [
    "if p_val < alpha:\n",
    "    print(\"Reject Ho !\")\n",
    "else:\n",
    "    print(\"Fail !\")"
   ]
  },
  {
   "cell_type": "code",
   "execution_count": 13,
   "id": "632e519b-05f1-417a-95fa-98fbb3486f1b",
   "metadata": {},
   "outputs": [
    {
     "data": {
      "text/plain": [
       "[0.276, 0.302]"
      ]
     },
     "execution_count": 13,
     "metadata": {},
     "output_type": "execute_result"
    }
   ],
   "source": [
    "CI = [\n",
    "    round((p_experiment_hat - p_control_hat) - SE * z_crit, 3),\n",
    "    round((p_experiment_hat - p_control_hat) + SE * z_crit, 3),\n",
    "]\n",
    "CI"
   ]
  }
 ],
 "metadata": {
  "kernelspec": {
   "display_name": "Python 3 (ipykernel)",
   "language": "python",
   "name": "python3"
  },
  "language_info": {
   "codemirror_mode": {
    "name": "ipython",
    "version": 3
   },
   "file_extension": ".py",
   "mimetype": "text/x-python",
   "name": "python",
   "nbconvert_exporter": "python",
   "pygments_lexer": "ipython3",
   "version": "3.12.4"
  }
 },
 "nbformat": 4,
 "nbformat_minor": 5
}
