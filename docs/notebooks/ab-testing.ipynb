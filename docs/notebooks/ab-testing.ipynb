{
 "cells": [
  {
   "cell_type": "markdown",
   "id": "5312aba8-f5e3-4735-8c79-7a8b675eab19",
   "metadata": {},
   "source": [
    "A/B testing, also known as split testing, is a statistical method used in data science to compare two versions of a product, webpage, or marketing campaign to determine which one performs better based on a specific metric. This approach allows data scientists and marketers to make data-driven decisions rather than relying on intuition or guesswork."
   ]
  },
  {
   "cell_type": "markdown",
   "id": "4be86bd5-fc60-4581-b1ae-999a75b47ec0",
   "metadata": {},
   "source": [
    "## A/B Testing Procedure\n",
    "\n",
    "1. __Problem Statement__ - What is the goal of the experiment ?\n",
    "2. __Hypothesis Testing__ - What result do you hypothesize from the experiment?\n",
    "3. __Design the Experiment__ - What are the experiment parameters ?\n",
    "4. __Run the Experiment__ - What are the requirements for running it ?\n",
    "5. __Validity Checks__ - Did the experiment run soundly without errors or bias?\n",
    "6. __Interpret the Results__ - Is the metric significant statistically and practically?\n",
    "7. __Launch Decision__ - Take action based on the experiment results\n",
    "\n",
    "## Tips\n",
    "\n",
    "- Talk about the business goal first (user journey)\n",
    "- Use the user funnel to create the success metric\n",
    "- A success metric must be: measurable, attributable, sensitive and timely\n",
    "\n",
    "## Example\n",
    "\n",
    "A web store wants to change the product ranking recommendation system.\n",
    "\n",
    "- __Success Metric__: revenue per day per user\n",
    "- __Null Hypothesis ($Ho$)__: the average revenue per day per user between the baseline and variant ranking algorithms are the same"
   ]
  }
 ],
 "metadata": {
  "kernelspec": {
   "display_name": "Python 3 (ipykernel)",
   "language": "python",
   "name": "python3"
  },
  "language_info": {
   "codemirror_mode": {
    "name": "ipython",
    "version": 3
   },
   "file_extension": ".py",
   "mimetype": "text/x-python",
   "name": "python",
   "nbconvert_exporter": "python",
   "pygments_lexer": "ipython3",
   "version": "3.12.4"
  }
 },
 "nbformat": 4,
 "nbformat_minor": 5
}
