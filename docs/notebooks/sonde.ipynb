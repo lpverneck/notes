{
 "cells": [
  {
   "cell_type": "code",
   "execution_count": 1,
   "id": "0277080b-6129-484f-b56d-9181e0471626",
   "metadata": {},
   "outputs": [],
   "source": [
    "import numpy as np\n",
    "import pandas as pd"
   ]
  },
  {
   "cell_type": "markdown",
   "id": "bf7e5e53-4ca3-4829-8deb-f3ce04b4818d",
   "metadata": {},
   "source": [
    "## Self-Organizing Novelty Detector (SONDE)\n",
    "\n",
    "Not supervisioned, adaptative, O(n^2)\n",
    "- GWR: Grow When Required\n",
    "- SOM: Self-Organizing Maps\n"
   ]
  },
  {
   "cell_type": "markdown",
   "id": "dbc2080d-ae15-4d92-867e-7ecac78c07ce",
   "metadata": {},
   "source": [
    "- $\\alpha$: Changes the cluster centroid.\n",
    "- $\\sigma$: Controls the Gaussian spread.\n",
    "- $\\beta$: Sigma adaptation for each specific cluster.\n",
    "\n",
    "Cluster -> Gaussian -> Markov Chain State"
   ]
  },
  {
   "cell_type": "code",
   "execution_count": 2,
   "id": "9bed2a0c-aafe-435a-8e56-8c6c523893f1",
   "metadata": {},
   "outputs": [],
   "source": [
    "def sonde(X, alpha=0.01, sigma=1):\n",
    "    centroids = None\n",
    "    pass"
   ]
  }
 ],
 "metadata": {
  "kernelspec": {
   "display_name": "Python 3 (ipykernel)",
   "language": "python",
   "name": "python3"
  },
  "language_info": {
   "codemirror_mode": {
    "name": "ipython",
    "version": 3
   },
   "file_extension": ".py",
   "mimetype": "text/x-python",
   "name": "python",
   "nbconvert_exporter": "python",
   "pygments_lexer": "ipython3",
   "version": "3.12.4"
  }
 },
 "nbformat": 4,
 "nbformat_minor": 5
}
