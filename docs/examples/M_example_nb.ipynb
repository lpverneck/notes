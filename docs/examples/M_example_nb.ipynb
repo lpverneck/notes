{
 "cells": [
  {
   "cell_type": "code",
   "execution_count": 1,
   "id": "c224100a-971b-4bff-8901-5c2d49c5c20d",
   "metadata": {},
   "outputs": [],
   "source": [
    "import json\n",
    "import pandas as pd"
   ]
  },
  {
   "cell_type": "code",
   "execution_count": 2,
   "id": "0a1a43c4-8e51-4543-b405-dd4e2e2b2b03",
   "metadata": {},
   "outputs": [],
   "source": [
    "payload = '{\"input\": [\"Hello World\"], \"latency\": 20}'"
   ]
  },
  {
   "cell_type": "code",
   "execution_count": 3,
   "id": "37737dd1-22b2-434a-95cb-e9d78f9f6cf3",
   "metadata": {},
   "outputs": [
    {
     "data": {
      "text/plain": [
       "{'input': ['Hello World'], 'latency': 20}"
      ]
     },
     "execution_count": 3,
     "metadata": {},
     "output_type": "execute_result"
    }
   ],
   "source": [
    "json.loads(payload)"
   ]
  },
  {
   "cell_type": "code",
   "execution_count": 4,
   "id": "468610a2-49a7-43b4-ade5-5bbf1b1b976e",
   "metadata": {},
   "outputs": [],
   "source": [
    "df = pd.DataFrame({\"Col A\": [1, 2, 3], \"Col B\": [3, 2, 1]})"
   ]
  },
  {
   "cell_type": "code",
   "execution_count": 5,
   "id": "69a6a82b-2587-4295-95a0-db56bf35c0c6",
   "metadata": {},
   "outputs": [
    {
     "data": {
      "text/html": [
       "<div>\n",
       "<style scoped>\n",
       "    .dataframe tbody tr th:only-of-type {\n",
       "        vertical-align: middle;\n",
       "    }\n",
       "\n",
       "    .dataframe tbody tr th {\n",
       "        vertical-align: top;\n",
       "    }\n",
       "\n",
       "    .dataframe thead th {\n",
       "        text-align: right;\n",
       "    }\n",
       "</style>\n",
       "<table border=\"1\" class=\"dataframe\">\n",
       "  <thead>\n",
       "    <tr style=\"text-align: right;\">\n",
       "      <th></th>\n",
       "      <th>Col A</th>\n",
       "      <th>Col B</th>\n",
       "    </tr>\n",
       "  </thead>\n",
       "  <tbody>\n",
       "    <tr>\n",
       "      <th>0</th>\n",
       "      <td>1</td>\n",
       "      <td>3</td>\n",
       "    </tr>\n",
       "    <tr>\n",
       "      <th>1</th>\n",
       "      <td>2</td>\n",
       "      <td>2</td>\n",
       "    </tr>\n",
       "    <tr>\n",
       "      <th>2</th>\n",
       "      <td>3</td>\n",
       "      <td>1</td>\n",
       "    </tr>\n",
       "  </tbody>\n",
       "</table>\n",
       "</div>"
      ],
      "text/plain": [
       "   Col A  Col B\n",
       "0      1      3\n",
       "1      2      2\n",
       "2      3      1"
      ]
     },
     "execution_count": 5,
     "metadata": {},
     "output_type": "execute_result"
    }
   ],
   "source": [
    "df"
   ]
  },
  {
   "cell_type": "code",
   "execution_count": null,
   "id": "98f7db6b-985c-42a0-a81d-70c3cf619e6a",
   "metadata": {},
   "outputs": [],
   "source": []
  }
 ],
 "metadata": {
  "kernelspec": {
   "display_name": "Python 3 (ipykernel)",
   "language": "python",
   "name": "python3"
  },
  "language_info": {
   "codemirror_mode": {
    "name": "ipython",
    "version": 3
   },
   "file_extension": ".py",
   "mimetype": "text/x-python",
   "name": "python",
   "nbconvert_exporter": "python",
   "pygments_lexer": "ipython3",
   "version": "3.12.4"
  }
 },
 "nbformat": 4,
 "nbformat_minor": 5
}
