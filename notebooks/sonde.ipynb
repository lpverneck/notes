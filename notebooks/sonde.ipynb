{
 "cells": [
  {
   "cell_type": "code",
   "execution_count": 1,
   "id": "0277080b-6129-484f-b56d-9181e0471626",
   "metadata": {},
   "outputs": [],
   "source": [
    "import numpy as np\n",
    "import pandas as pd\n",
    "import matplotlib.pyplot as plt\n",
    "from ucimlrepo import fetch_ucirepo"
   ]
  },
  {
   "cell_type": "markdown",
   "id": "bf7e5e53-4ca3-4829-8deb-f3ce04b4818d",
   "metadata": {},
   "source": [
    "## Self-Organizing Novelty Detector (SONDE)\n",
    "\n",
    "It operates by incrementally learning patterns and identifying unexpected events in dynamic environments. Is a unsupervised and adaptative method with a algorithmic complexity $O(n^2)$.\n",
    "\n",
    "Based on two strategies:\n",
    "\n",
    "- GWR: Grow When Required\n",
    "- SOM: Self-Organizing Maps"
   ]
  },
  {
   "cell_type": "markdown",
   "id": "dbc2080d-ae15-4d92-867e-7ecac78c07ce",
   "metadata": {},
   "source": [
    "Main parameters:\n",
    "\n",
    "- $\\alpha$: Changes the cluster centroid\n",
    "- $\\sigma$: Controls the Gaussian spread\n",
    "- $\\beta$: Sigma adaptation for each specific cluster\n",
    "\n",
    "In the context of __Markov Chains__ each cluster defined by a Gaussian represents one possible state on the chain."
   ]
  },
  {
   "cell_type": "code",
   "execution_count": 2,
   "id": "fa052e77-d84e-4e82-abdc-a4147889892e",
   "metadata": {},
   "outputs": [
    {
     "data": {
      "text/plain": [
       "array([[ 5. ,  5. ],\n",
       "       [ 5.2,  4.8],\n",
       "       [ 4.7,  5.3],\n",
       "       [10. , 10. ],\n",
       "       [10.2,  9.8],\n",
       "       [ 9.7, 10.3],\n",
       "       [ 5. ,  5. ]])"
      ]
     },
     "execution_count": 2,
     "metadata": {},
     "output_type": "execute_result"
    }
   ],
   "source": [
    "data = np.array(\n",
    "    [\n",
    "        [5, 5],\n",
    "        [5.2, 4.8],\n",
    "        [4.7, 5.3],\n",
    "        [10, 10],\n",
    "        [10.2, 9.8],\n",
    "        [9.7, 10.3],\n",
    "        [5, 5],\n",
    "    ]\n",
    ")\n",
    "data"
   ]
  },
  {
   "cell_type": "code",
   "execution_count": 3,
   "id": "9bed2a0c-aafe-435a-8e56-8c6c523893f1",
   "metadata": {},
   "outputs": [],
   "source": [
    "def get_closest_gaussian(example, centroids, sigma, threshold=1e-3):\n",
    "    \"\"\"Find the closest Gaussian cluster from the example point. If no clusters\n",
    "    have been created the function return -1.\"\"\"\n",
    "    # check if there is no centroids\n",
    "    if centroids.size == 0:\n",
    "        return -1\n",
    "\n",
    "    euclidian_distance = np.apply_along_axis(\n",
    "        lambda center: (np.sum((center - example) ** 2)) ** (1 / 2),\n",
    "        1,\n",
    "        centroids,\n",
    "    )\n",
    "    activation = np.exp(-(euclidian_distance**2) / (2 * sigma**2))\n",
    "    idx = activation.argmax()\n",
    "\n",
    "    # manages the sensitivity for new clusters creation\n",
    "    if activation[idx] < threshold:\n",
    "        return -1\n",
    "    return idx\n",
    "\n",
    "\n",
    "def estimate_markov_chain_entropy_rate(adj_mat: np.array) -> float:\n",
    "    \"\"\"Calculates the Shannon entropy for a Markov Chain given your\n",
    "    adjacency matrix representation.\"\"\"\n",
    "    return -1 * np.sum(adj_mat * np.log2(adj_mat))\n",
    "\n",
    "\n",
    "def sonde(X, alpha=0.01, sigma=1, eps=1e-7, delta=0.01, verbose=True):\n",
    "    d = X.shape[1]\n",
    "    centroids = np.empty((0, d))\n",
    "    old_pos = -1\n",
    "    curr_pos = -1\n",
    "    markov = None\n",
    "    old_H = -1\n",
    "    curr_H = -1\n",
    "    H = []\n",
    "    delta_H = []\n",
    "\n",
    "    for point in X:\n",
    "        example = point.reshape(1, d)\n",
    "        curr_pos = get_closest_gaussian(example, centroids, sigma)\n",
    "\n",
    "        if curr_pos == -1:\n",
    "            # create a new Gaussian\n",
    "            if centroids.size == 0:\n",
    "                centroids = np.concatenate((centroids, example), axis=0)\n",
    "                curr_pos = 0\n",
    "                markov = np.array([[eps]])\n",
    "            else:\n",
    "                centroids = np.concatenate((centroids, example), axis=0)\n",
    "                curr_pos = centroids.shape[0] - 1\n",
    "\n",
    "            if centroids.shape[0] > 1:\n",
    "                markov = np.pad(\n",
    "                    markov,\n",
    "                    ((0, 1), (0, 1)),\n",
    "                    mode=\"constant\",\n",
    "                    constant_values=eps,\n",
    "                )\n",
    "        else:\n",
    "            # adapt an existing Gaussian\n",
    "            centroids[curr_pos, :] = (1 - alpha) * centroids[\n",
    "                curr_pos, :\n",
    "            ] + alpha * example\n",
    "\n",
    "        if old_pos != -1:\n",
    "            markov[old_pos, curr_pos] = markov[old_pos, curr_pos] + delta\n",
    "            if verbose:\n",
    "                print(f\"Moved from state ( {old_pos} ) to ( {curr_pos} )\")\n",
    "\n",
    "        # normalize the adjacency matrix\n",
    "        for i in range(markov.shape[0]):\n",
    "            markov[i] = markov[i, :] / sum(markov[i, :])\n",
    "\n",
    "        # calculate the entropy\n",
    "        curr_H = estimate_markov_chain_entropy_rate(markov)\n",
    "        H.append(curr_H)\n",
    "\n",
    "        # calculate the entropy difference\n",
    "        if old_H != -1:\n",
    "            delta_H.append(curr_H - old_H)\n",
    "\n",
    "        if verbose:\n",
    "            print(f\"Markov Adjacency Matrix:\\n{markov}\")\n",
    "            print(\"-\" * 50)\n",
    "\n",
    "        old_pos = curr_pos\n",
    "        old_H = curr_H\n",
    "\n",
    "    return delta_H, H, centroids, markov"
   ]
  },
  {
   "cell_type": "code",
   "execution_count": 4,
   "id": "fb73a50e-e9de-46d8-88dc-bc5af5bd1e69",
   "metadata": {},
   "outputs": [
    {
     "name": "stdout",
     "output_type": "stream",
     "text": [
      "Markov Adjacency Matrix:\n",
      "[[1.]]\n",
      "--------------------------------------------------\n",
      "Moved from state ( 0 ) to ( 0 )\n",
      "Markov Adjacency Matrix:\n",
      "[[1.]]\n",
      "--------------------------------------------------\n",
      "Moved from state ( 0 ) to ( 0 )\n",
      "Markov Adjacency Matrix:\n",
      "[[1.]]\n",
      "--------------------------------------------------\n",
      "Moved from state ( 0 ) to ( 1 )\n",
      "Markov Adjacency Matrix:\n",
      "[[0.99009891 0.00990109]\n",
      " [0.5        0.5       ]]\n",
      "--------------------------------------------------\n",
      "Moved from state ( 1 ) to ( 1 )\n",
      "Markov Adjacency Matrix:\n",
      "[[0.99009891 0.00990109]\n",
      " [0.4950495  0.5049505 ]]\n",
      "--------------------------------------------------\n",
      "Moved from state ( 1 ) to ( 1 )\n",
      "Markov Adjacency Matrix:\n",
      "[[0.99009891 0.00990109]\n",
      " [0.49014802 0.50985198]]\n",
      "--------------------------------------------------\n",
      "Moved from state ( 1 ) to ( 0 )\n",
      "Markov Adjacency Matrix:\n",
      "[[0.99009891 0.00990109]\n",
      " [0.49519606 0.50480394]]\n",
      "--------------------------------------------------\n"
     ]
    }
   ],
   "source": [
    "dH, H, centroids, markov = sonde(X=data, verbose=True)"
   ]
  },
  {
   "cell_type": "code",
   "execution_count": 5,
   "id": "83d3b943-57df-4c3c-8157-71fcce2c6f0d",
   "metadata": {},
   "outputs": [
    {
     "data": {
      "text/plain": [
       "array([[ 4.9989902,  5.0010098],\n",
       "       [ 9.99898  , 10.00102  ]])"
      ]
     },
     "execution_count": 5,
     "metadata": {},
     "output_type": "execute_result"
    }
   ],
   "source": [
    "centroids"
   ]
  },
  {
   "cell_type": "code",
   "execution_count": 6,
   "id": "1390c18c-72ef-48a0-a39f-a17d35c93b15",
   "metadata": {},
   "outputs": [],
   "source": [
    "# plt.plot(dH);"
   ]
  },
  {
   "cell_type": "code",
   "execution_count": 7,
   "id": "a4c5eb8d-ca43-465a-a7d8-31ed41706533",
   "metadata": {},
   "outputs": [],
   "source": [
    "# fetch dataset\n",
    "# iris = fetch_ucirepo(id=53)\n",
    "\n",
    "# data (as pandas dataframes)\n",
    "# X = iris.data.features\n",
    "# y = iris.data.targets"
   ]
  },
  {
   "cell_type": "code",
   "execution_count": 8,
   "id": "71e36f85-fcba-41c7-ab16-31e9e0f2a6a7",
   "metadata": {},
   "outputs": [],
   "source": [
    "# dH, H, centroids, markov = sonde(X=X.sample(frac=1).values, verbose=False)"
   ]
  }
 ],
 "metadata": {
  "kernelspec": {
   "display_name": "Python 3 (ipykernel)",
   "language": "python",
   "name": "python3"
  },
  "language_info": {
   "codemirror_mode": {
    "name": "ipython",
    "version": 3
   },
   "file_extension": ".py",
   "mimetype": "text/x-python",
   "name": "python",
   "nbconvert_exporter": "python",
   "pygments_lexer": "ipython3",
   "version": "3.13.0"
  }
 },
 "nbformat": 4,
 "nbformat_minor": 5
}
