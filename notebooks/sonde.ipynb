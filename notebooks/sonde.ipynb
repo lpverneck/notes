{
 "cells": [
  {
   "cell_type": "code",
   "execution_count": 1,
   "id": "0277080b-6129-484f-b56d-9181e0471626",
   "metadata": {},
   "outputs": [],
   "source": [
    "import numpy as np\n",
    "import pandas as pd"
   ]
  },
  {
   "cell_type": "markdown",
   "id": "bf7e5e53-4ca3-4829-8deb-f3ce04b4818d",
   "metadata": {},
   "source": [
    "## Self-Organizing Novelty Detector (SONDE)\n",
    "\n",
    "It operates by incrementally learning patterns and identifying unexpected events in dynamic environments. Is a unsupervised and adaptative method with a algorithmic complexity $O(n^2)$.\n",
    "\n",
    "Based on two strategies:\n",
    "\n",
    "- GWR: Grow When Required\n",
    "- SOM: Self-Organizing Maps"
   ]
  },
  {
   "cell_type": "markdown",
   "id": "dbc2080d-ae15-4d92-867e-7ecac78c07ce",
   "metadata": {},
   "source": [
    "Main parameters:\n",
    "\n",
    "- $\\alpha$: Changes the cluster centroid\n",
    "- $\\sigma$: Controls the Gaussian spread\n",
    "- $\\beta$: Sigma adaptation for each specific cluster\n",
    "\n",
    "In the context of __Markov Chains__ each cluster defined by a Gaussian represents one possible state on the chain."
   ]
  },
  {
   "cell_type": "code",
   "execution_count": 2,
   "id": "fa052e77-d84e-4e82-abdc-a4147889892e",
   "metadata": {},
   "outputs": [
    {
     "data": {
      "text/plain": [
       "array([[ 5. ,  5. ],\n",
       "       [ 5.2,  4.8],\n",
       "       [ 4.7,  5.3],\n",
       "       [10. , 10. ],\n",
       "       [10.2,  9.8],\n",
       "       [ 9.7, 10.3],\n",
       "       [ 5. ,  5. ]])"
      ]
     },
     "execution_count": 2,
     "metadata": {},
     "output_type": "execute_result"
    }
   ],
   "source": [
    "data = np.array(\n",
    "    [\n",
    "        [5, 5],\n",
    "        [5.2, 4.8],\n",
    "        [4.7, 5.3],\n",
    "        [10, 10],\n",
    "        [10.2, 9.8],\n",
    "        [9.7, 10.3],\n",
    "        [5, 5],\n",
    "    ]\n",
    ")\n",
    "data"
   ]
  },
  {
   "cell_type": "code",
   "execution_count": 3,
   "id": "9bed2a0c-aafe-435a-8e56-8c6c523893f1",
   "metadata": {},
   "outputs": [],
   "source": [
    "def get_closest_gaussian(example, centroids, sigma, threshold=1e-3):\n",
    "    \"\"\"Find the closest Gaussian cluster from the example point. If no clusters\n",
    "    have been created the function return -1.\"\"\"\n",
    "    if centroids.size == 0:\n",
    "        return -1\n",
    "\n",
    "    euclidian_distance = np.apply_along_axis(\n",
    "        lambda center: (np.sum((center - example) ** 2)) ** (1 / 2),\n",
    "        1,\n",
    "        centroids,\n",
    "    )\n",
    "    activation = np.exp(-(euclidian_distance**2) / (2 * sigma**2))\n",
    "    idx = activation.argmax()\n",
    "    if activation[idx] < threshold:\n",
    "        return -1\n",
    "    return idx\n",
    "\n",
    "\n",
    "def sonde(X, alpha=0.01, sigma=1):\n",
    "    d = X.shape[1]\n",
    "    centroids = np.empty((0, d))\n",
    "    old_pos = -1\n",
    "    curr_post = -1\n",
    "    markov = None\n",
    "\n",
    "    for point in X:\n",
    "        example = point.reshape(1, d)\n",
    "        curr_post = get_closest_gaussian(example, centroids, sigma)\n",
    "        # print(idx)\n",
    "        if curr_post == -1:\n",
    "            # create a new Gaussian\n",
    "            if centroids.size == 0:\n",
    "                centroids = np.concatenate((centroids, example), axis=0)\n",
    "                curr_post = 0\n",
    "            else:\n",
    "                centroids = np.concatenate((centroids, example), axis=0)\n",
    "                curr_post = centroids.shape[0] - 1\n",
    "                # if curr_post\n",
    "            # markov = pass\n",
    "        else:\n",
    "            # adapt an existing Gaussian\n",
    "            centroids[curr_post, :] = (1 - alpha) * centroids[\n",
    "                curr_post, :\n",
    "            ] + alpha * example\n",
    "\n",
    "        if old_pos != -1:\n",
    "            print(f\"Move from position ( {old_pos} ) to ( {curr_post} )\")\n",
    "\n",
    "        old_pos = curr_post\n",
    "\n",
    "    print(\"-\" * 50)\n",
    "    print(f\"Centroids:\\n\\n{centroids}\")"
   ]
  },
  {
   "cell_type": "code",
   "execution_count": 4,
   "id": "fb73a50e-e9de-46d8-88dc-bc5af5bd1e69",
   "metadata": {},
   "outputs": [
    {
     "name": "stdout",
     "output_type": "stream",
     "text": [
      "Move from position ( 0 ) to ( 0 )\n",
      "Move from position ( 0 ) to ( 0 )\n",
      "Move from position ( 0 ) to ( 1 )\n",
      "Move from position ( 1 ) to ( 1 )\n",
      "Move from position ( 1 ) to ( 1 )\n",
      "Move from position ( 1 ) to ( 0 )\n",
      "--------------------------------------------------\n",
      "Centroids:\n",
      "\n",
      "[[ 4.9989902  5.0010098]\n",
      " [ 9.99898   10.00102  ]]\n"
     ]
    }
   ],
   "source": [
    "sonde(X=data)"
   ]
  }
 ],
 "metadata": {
  "kernelspec": {
   "display_name": "Python 3 (ipykernel)",
   "language": "python",
   "name": "python3"
  },
  "language_info": {
   "codemirror_mode": {
    "name": "ipython",
    "version": 3
   },
   "file_extension": ".py",
   "mimetype": "text/x-python",
   "name": "python",
   "nbconvert_exporter": "python",
   "pygments_lexer": "ipython3",
   "version": "3.13.0"
  }
 },
 "nbformat": 4,
 "nbformat_minor": 5
}
