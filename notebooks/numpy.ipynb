{
 "cells": [
  {
   "cell_type": "markdown",
   "id": "c4efb40b-24c4-4249-af5e-6c1b04b26708",
   "metadata": {},
   "source": [
    "## Why is Numpy Faster Than Lists ?\n",
    "\n",
    "- Less bytes of memory (Fixed Type)\n",
    "- No type checking when iterating through objects\n",
    "- Contiguous memory\n",
    "    - SIMD vector processing\n",
    "    - Effective cache utilization"
   ]
  },
  {
   "cell_type": "markdown",
   "id": "3174a197-21b1-42d9-9ceb-936f7ac9015c",
   "metadata": {},
   "source": [
    "## Basics"
   ]
  },
  {
   "cell_type": "code",
   "execution_count": 1,
   "id": "7856d599-e5ef-46d2-84fc-4a1e048590e5",
   "metadata": {},
   "outputs": [],
   "source": [
    "import numpy as np"
   ]
  },
  {
   "cell_type": "code",
   "execution_count": 2,
   "id": "47efeedf-2bf6-4152-9588-d15aa6001f5f",
   "metadata": {},
   "outputs": [],
   "source": [
    "# set seed for reproducibility\n",
    "np.random.seed(seed=42)"
   ]
  },
  {
   "cell_type": "code",
   "execution_count": 3,
   "id": "a291b97d-3d1f-43ac-9c61-be75baf5acb6",
   "metadata": {},
   "outputs": [
    {
     "name": "stdout",
     "output_type": "stream",
     "text": [
      "x:  7\n",
      "x ndim:  0\n",
      "x shape: ()\n",
      "x size:  1\n",
      "x dtype:  int64\n",
      "x itemsize:  8\n",
      "x nbytes:  8\n"
     ]
    }
   ],
   "source": [
    "# Scalar - 0D Tensor - a single value\n",
    "x = np.array(7)\n",
    "print(\"x: \", x)\n",
    "print(\"x ndim: \", x.ndim)  # number of dimensions\n",
    "print(\"x shape:\", x.shape)  # dimensions\n",
    "print(\"x size: \", x.size)  # size of elements\n",
    "print(\"x dtype: \", x.dtype)  # data type\n",
    "print(\"x itemsize: \", x.itemsize)  # length of one array element in bytes\n",
    "print(\n",
    "    \"x nbytes: \", x.nbytes\n",
    ")  # total bytes consumed by the elements of the array"
   ]
  },
  {
   "cell_type": "code",
   "execution_count": 4,
   "id": "3d5fe2ac-f575-490a-b1cd-2cdef7090171",
   "metadata": {},
   "outputs": [
    {
     "name": "stdout",
     "output_type": "stream",
     "text": [
      "x:  [1.5 2.5 3.5 5. ]\n",
      "x ndim:  1\n",
      "x shape: (4,)\n",
      "x size:  4\n",
      "x dtype:  float64\n",
      "x itemsize:  8\n",
      "x nbytes:  32\n"
     ]
    }
   ],
   "source": [
    "# Vector - 1D Tensor - row or column of values\n",
    "x = np.array([1.5, 2.5, 3.5, 5.0])\n",
    "print(\"x: \", x)\n",
    "print(\"x ndim: \", x.ndim)\n",
    "print(\"x shape:\", x.shape)\n",
    "print(\"x size: \", x.size)\n",
    "print(\"x dtype: \", x.dtype)\n",
    "print(\"x itemsize: \", x.itemsize)\n",
    "print(\"x nbytes: \", x.nbytes)"
   ]
  },
  {
   "cell_type": "code",
   "execution_count": 5,
   "id": "61eae917-2adf-4da0-ae51-4fdeb2c5ff50",
   "metadata": {},
   "outputs": [
    {
     "name": "stdout",
     "output_type": "stream",
     "text": [
      "x:\n",
      " [[1 2]\n",
      " [3 4]]\n",
      "x ndim:  2\n",
      "x shape: (2, 2)\n",
      "x size:  4\n",
      "x dtype:  int64\n",
      "x itemsize:  8\n",
      "x nbytes:  32\n"
     ]
    }
   ],
   "source": [
    "# Matrix - 2D Tensor - array (rows and columns) of values\n",
    "x = np.array([[1, 2], [3, 4]])\n",
    "print(\"x:\\n\", x)\n",
    "print(\"x ndim: \", x.ndim)\n",
    "print(\"x shape:\", x.shape)\n",
    "print(\"x size: \", x.size)\n",
    "print(\"x dtype: \", x.dtype)\n",
    "print(\"x itemsize: \", x.itemsize)\n",
    "print(\"x nbytes: \", x.nbytes)"
   ]
  },
  {
   "cell_type": "code",
   "execution_count": 6,
   "id": "1c32e180-ed47-4baa-a364-18cd5ec20e65",
   "metadata": {},
   "outputs": [
    {
     "name": "stdout",
     "output_type": "stream",
     "text": [
      "x:\n",
      " [[[1 2]\n",
      "  [3 4]]\n",
      "\n",
      " [[5 6]\n",
      "  [7 8]]]\n",
      "x ndim:  3\n",
      "x shape: (2, 2, 2)\n",
      "x size:  8\n",
      "x dtype:  int64\n",
      "x itemsize:  8\n",
      "x nbytes:  64\n"
     ]
    }
   ],
   "source": [
    "# 3D Tensor\n",
    "x = np.array([[[1, 2], [3, 4]], [[5, 6], [7, 8]]])\n",
    "print(\"x:\\n\", x)\n",
    "print(\"x ndim: \", x.ndim)\n",
    "print(\"x shape:\", x.shape)\n",
    "print(\"x size: \", x.size)\n",
    "print(\"x dtype: \", x.dtype)\n",
    "print(\"x itemsize: \", x.itemsize)\n",
    "print(\"x nbytes: \", x.nbytes)"
   ]
  },
  {
   "cell_type": "code",
   "execution_count": 7,
   "id": "83ed331f-dfc1-4afb-9fca-7a6bff7e6c93",
   "metadata": {},
   "outputs": [
    {
     "name": "stdout",
     "output_type": "stream",
     "text": [
      "np.zeros((3, 3)):\n",
      " [[0. 0. 0.]\n",
      " [0. 0. 0.]\n",
      " [0. 0. 0.]]\n",
      "np.ones((3, 3)):\n",
      " [[1. 1. 1.]\n",
      " [1. 1. 1.]\n",
      " [1. 1. 1.]]\n",
      "np.identity((3, 3)):\n",
      " [[1. 0. 0.]\n",
      " [0. 1. 0.]\n",
      " [0. 0. 1.]]\n",
      "np.eye((3)):\n",
      " [[1. 0. 0.]\n",
      " [0. 1. 0.]\n",
      " [0. 0. 1.]]\n",
      "np.random.random((3, 3)):\n",
      " [[0.37454012 0.95071431 0.73199394]\n",
      " [0.59865848 0.15601864 0.15599452]\n",
      " [0.05808361 0.86617615 0.60111501]]\n",
      "np.random.random_sample((3, 3)):\n",
      " [[0.70807258 0.02058449 0.96990985]\n",
      " [0.83244264 0.21233911 0.18182497]\n",
      " [0.18340451 0.30424224 0.52475643]]\n",
      "np.random.rand(4, 2):\n",
      " [[0.43194502 0.29122914]\n",
      " [0.61185289 0.13949386]\n",
      " [0.29214465 0.36636184]\n",
      " [0.45606998 0.78517596]]\n",
      "np.random.randint(1, 6, size=(3, 3)):\n",
      " [[3 4 4]\n",
      " [1 3 5]\n",
      " [3 5 1]]\n",
      "np.full(shape=(4, 4), fill_value=100):\n",
      " [[100 100 100 100]\n",
      " [100 100 100 100]\n",
      " [100 100 100 100]\n",
      " [100 100 100 100]]\n",
      "np.repeat(my_array, 5, axis=0):\n",
      " [[1 2 3]\n",
      " [1 2 3]\n",
      " [1 2 3]\n",
      " [1 2 3]\n",
      " [1 2 3]]\n"
     ]
    }
   ],
   "source": [
    "# Functions to create tensors\n",
    "print(\"np.zeros((3, 3)):\\n\", np.zeros((3, 3)))\n",
    "print(\"np.ones((3, 3)):\\n\", np.ones((3, 3)))\n",
    "print(\"np.identity((3, 3)):\\n\", np.identity(3))\n",
    "print(\"np.eye((3)):\\n\", np.eye((3)))  # identity matrix\n",
    "print(\"np.random.random((3, 3)):\\n\", np.random.random((3, 3)))\n",
    "print(\"np.random.random_sample((3, 3)):\\n\", np.random.random_sample((3, 3)))\n",
    "print(\"np.random.rand(4, 2):\\n\", np.random.rand(4, 2))\n",
    "print(\n",
    "    \"np.random.randint(1, 6, size=(3, 3)):\\n\",\n",
    "    np.random.randint(1, 6, size=(3, 3)),\n",
    ")\n",
    "print(\n",
    "    \"np.full(shape=(4, 4), fill_value=100):\\n\",\n",
    "    np.full(shape=(4, 4), fill_value=100),\n",
    ")\n",
    "\n",
    "# Repeat array\n",
    "my_array = np.array([[1, 2, 3]])\n",
    "print(\"np.repeat(my_array, 5, axis=0):\\n\", np.repeat(my_array, 5, axis=0))"
   ]
  },
  {
   "cell_type": "markdown",
   "id": "2a85a036-c273-44c9-83fe-2f2d53f423d9",
   "metadata": {},
   "source": [
    "## Copying Arrays"
   ]
  },
  {
   "cell_type": "code",
   "execution_count": 8,
   "id": "9b6e0527-f479-496c-8487-a6b36e710816",
   "metadata": {},
   "outputs": [
    {
     "name": "stdout",
     "output_type": "stream",
     "text": [
      "[100.    2.5   3.5]\n",
      "[100.    2.5   3.5]\n"
     ]
    }
   ],
   "source": [
    "a = np.array([1.5, 2.5, 3.5])\n",
    "b = a\n",
    "b[0] = 100\n",
    "print(b)\n",
    "print(a)"
   ]
  },
  {
   "cell_type": "code",
   "execution_count": 9,
   "id": "833811ca-cc9d-4921-91f1-59c6eddfa904",
   "metadata": {},
   "outputs": [
    {
     "name": "stdout",
     "output_type": "stream",
     "text": [
      "[100.    2.5   3.5]\n",
      "[1.5 2.5 3.5]\n"
     ]
    }
   ],
   "source": [
    "a = np.array([1.5, 2.5, 3.5])\n",
    "b = a.copy()  # use copy()\n",
    "b[0] = 100\n",
    "print(b)\n",
    "print(a)"
   ]
  },
  {
   "cell_type": "markdown",
   "id": "7f0d3968-a10e-489a-9ed7-768441f1ef19",
   "metadata": {},
   "source": [
    "## Indexing"
   ]
  },
  {
   "cell_type": "code",
   "execution_count": 10,
   "id": "302d400e-7e60-4bbb-83f8-e14be056b822",
   "metadata": {},
   "outputs": [
    {
     "name": "stdout",
     "output_type": "stream",
     "text": [
      "x:\n",
      " [[ 1  2  3  4]\n",
      " [ 5  6  7  8]\n",
      " [ 9 10 11 12]]\n",
      "x[0, 2]:  3\n",
      "x:\n",
      " [[ 1  2 99  4]\n",
      " [ 5  6  7  8]\n",
      " [ 9 10 11 12]]\n"
     ]
    }
   ],
   "source": [
    "x = np.array([[1, 2, 3, 4], [5, 6, 7, 8], [9, 10, 11, 12]])\n",
    "print(\"x:\\n\", x)\n",
    "print(\"x[0, 2]: \", x[0, 2])\n",
    "x[0, 2] = 99\n",
    "print(\"x:\\n\", x)"
   ]
  },
  {
   "cell_type": "code",
   "execution_count": 11,
   "id": "29a83165-9688-40db-8a45-5a3ea56065cf",
   "metadata": {},
   "outputs": [
    {
     "name": "stdout",
     "output_type": "stream",
     "text": [
      "[[ 1  2  3  4]\n",
      " [ 5  6  7  8]\n",
      " [ 9 10 11 12]]\n",
      "x column 1:  [ 2  6 10]\n",
      "x row 0:  [1 2 3 4]\n",
      "x rows 0,1 & cols 1,2: \n",
      " [[2 3]\n",
      " [6 7]]\n"
     ]
    }
   ],
   "source": [
    "# Slicing\n",
    "x = np.array([[1, 2, 3, 4], [5, 6, 7, 8], [9, 10, 11, 12]])\n",
    "print(x)\n",
    "print(\"x column 1: \", x[:, 1])\n",
    "print(\"x row 0: \", x[0, :])\n",
    "print(\"x rows 0,1 & cols 1,2: \\n\", x[0:2, 1:3])"
   ]
  },
  {
   "cell_type": "code",
   "execution_count": 12,
   "id": "780b4e23-867c-494d-a044-9e25fb98a8c9",
   "metadata": {},
   "outputs": [
    {
     "name": "stdout",
     "output_type": "stream",
     "text": [
      "[[ 1  2  3  4]\n",
      " [ 5  6  7  8]\n",
      " [ 9 10 11 12]]\n",
      "rows_to_get:  [0 1 2]\n",
      "cols_to_get:  [0 2 1]\n",
      "indexed values:  [ 1  7 10]\n"
     ]
    }
   ],
   "source": [
    "# Integer array indexing\n",
    "print(x)\n",
    "rows_to_get = np.array([0, 1, 2])\n",
    "print(\"rows_to_get: \", rows_to_get)\n",
    "cols_to_get = np.array([0, 2, 1])\n",
    "print(\"cols_to_get: \", cols_to_get)\n",
    "# Combine sequences above to get values to get\n",
    "print(\"indexed values: \", x[rows_to_get, cols_to_get])"
   ]
  },
  {
   "cell_type": "code",
   "execution_count": 13,
   "id": "15337322-9a84-4b1d-ab14-0362dd0a4892",
   "metadata": {},
   "outputs": [
    {
     "name": "stdout",
     "output_type": "stream",
     "text": [
      "x:\n",
      " [[1 2]\n",
      " [3 4]\n",
      " [5 6]]\n",
      "x > 2:\n",
      " [[False False]\n",
      " [ True  True]\n",
      " [ True  True]]\n",
      "x[x > 2]:\n",
      " [3 4 5 6]\n"
     ]
    }
   ],
   "source": [
    "# Boolean array indexing\n",
    "x = np.array([[1, 2], [3, 4], [5, 6]])\n",
    "print(\"x:\\n\", x)\n",
    "print(\"x > 2:\\n\", x > 2)\n",
    "print(\"x[x > 2]:\\n\", x[x > 2])"
   ]
  },
  {
   "cell_type": "markdown",
   "id": "3077399c-831c-42ca-a586-6fc588245352",
   "metadata": {},
   "source": [
    "## Arithmetic"
   ]
  },
  {
   "cell_type": "code",
   "execution_count": 14,
   "id": "8c474628-372d-4cf5-a52c-d383ac2ffaf8",
   "metadata": {},
   "outputs": [
    {
     "name": "stdout",
     "output_type": "stream",
     "text": [
      "x + y:\n",
      " [[10. 10.]\n",
      " [10. 10.]]\n",
      "x - y:\n",
      " [[0. 0.]\n",
      " [0. 0.]]\n",
      "x * y:\n",
      " [[25. 25.]\n",
      " [25. 25.]]\n",
      "x / y:\n",
      " [[1. 1.]\n",
      " [1. 1.]]\n",
      "xˆ3:\n",
      " [[125. 125.]\n",
      " [125. 125.]]\n",
      "x * 3:\n",
      " [[15. 15.]\n",
      " [15. 15.]]\n"
     ]
    }
   ],
   "source": [
    "# Basic math\n",
    "x = np.array([[5, 5], [5, 5]], dtype=np.float64)\n",
    "y = np.array([[5, 5], [5, 5]], dtype=np.float64)\n",
    "print(\"x + y:\\n\", np.add(x, y))  # or x + y\n",
    "print(\"x - y:\\n\", np.subtract(x, y))  # or x - y\n",
    "print(\"x * y:\\n\", np.multiply(x, y))  # or x * y\n",
    "print(\"x / y:\\n\", np.divide(x, y))  # or x / y\n",
    "print(\"xˆ3:\\n\", x**3)\n",
    "print(\"x * 3:\\n\", x * 3)"
   ]
  },
  {
   "cell_type": "markdown",
   "id": "d2361727-f9e2-40b4-9ffc-6d9d00623622",
   "metadata": {},
   "source": [
    "## Linear Algebra"
   ]
  },
  {
   "cell_type": "markdown",
   "id": "45c8c3a3-e9e2-48ed-9473-7574a968803b",
   "metadata": {},
   "source": [
    "### Dot Product"
   ]
  },
  {
   "cell_type": "code",
   "execution_count": 15,
   "id": "9c58aa7e-e4f5-4ca4-a6f2-cc42d72fb3cc",
   "metadata": {},
   "outputs": [
    {
     "name": "stdout",
     "output_type": "stream",
     "text": [
      "(2, 3) · (3, 2) = (2, 2)\n",
      "[[ 58.  64.]\n",
      " [139. 154.]]\n",
      "or using np.matmul(a, b):\n",
      " [[ 58.  64.]\n",
      " [139. 154.]]\n"
     ]
    }
   ],
   "source": [
    "a = np.array([[1, 2, 3], [4, 5, 6]], dtype=np.float64)\n",
    "b = np.array([[7, 8], [9, 10], [11, 12]], dtype=np.float64)\n",
    "c = a.dot(b)\n",
    "print(f\"{a.shape} · {b.shape} = {c.shape}\")\n",
    "print(c)\n",
    "print(\"or using np.matmul(a, b):\\n\", np.matmul(a, b))"
   ]
  },
  {
   "cell_type": "markdown",
   "id": "e1df3fca-77dd-492b-a5e4-6d30110ab648",
   "metadata": {},
   "source": [
    "### Axis Operations"
   ]
  },
  {
   "cell_type": "code",
   "execution_count": 16,
   "id": "a6f80446-e021-417f-aff0-f2b2e3c694c7",
   "metadata": {},
   "outputs": [
    {
     "name": "stdout",
     "output_type": "stream",
     "text": [
      "[[1 2]\n",
      " [3 4]]\n",
      "sum all:  10\n",
      "sum axis=0:  [4 6]\n",
      "sum axis=1:  [3 7]\n"
     ]
    }
   ],
   "source": [
    "# Sum across a dimension\n",
    "x = np.array([[1, 2], [3, 4]])\n",
    "print(x)\n",
    "print(\"sum all: \", np.sum(x))  # adds all elements\n",
    "print(\"sum axis=0: \", np.sum(x, axis=0))  # sum across rows\n",
    "print(\"sum axis=1: \", np.sum(x, axis=1))  # sum across columns"
   ]
  },
  {
   "cell_type": "code",
   "execution_count": 17,
   "id": "f3b59352-4263-45de-b960-c83a59b48aff",
   "metadata": {},
   "outputs": [
    {
     "name": "stdout",
     "output_type": "stream",
     "text": [
      "min:  1\n",
      "max:  6\n",
      "min axis=0:  [1 2 3]\n",
      "min axis=1:  [1 4]\n"
     ]
    }
   ],
   "source": [
    "# Min / max\n",
    "x = np.array([[1, 2, 3], [4, 5, 6]])\n",
    "print(\"min: \", x.min())\n",
    "print(\"max: \", x.max())\n",
    "print(\"min axis=0: \", x.min(axis=0))\n",
    "print(\"min axis=1: \", x.min(axis=1))"
   ]
  },
  {
   "cell_type": "markdown",
   "id": "8958041b-a576-4ffe-a194-75de87003dac",
   "metadata": {},
   "source": [
    "### Broadcast"
   ]
  },
  {
   "cell_type": "code",
   "execution_count": 18,
   "id": "50c103a6-17df-4a73-887f-2a72e9ac345d",
   "metadata": {},
   "outputs": [
    {
     "name": "stdout",
     "output_type": "stream",
     "text": [
      "z:\n",
      " [10 30]\n"
     ]
    }
   ],
   "source": [
    "x = np.array([7, 27])  # vector\n",
    "y = np.array(3)  # scalar\n",
    "z = x + y\n",
    "print(\"z:\\n\", z)"
   ]
  },
  {
   "cell_type": "markdown",
   "id": "59cd121d-8cef-4575-a45f-7f300d90dd16",
   "metadata": {},
   "source": [
    "### Transpose"
   ]
  },
  {
   "cell_type": "code",
   "execution_count": 19,
   "id": "854c9cfd-e9e4-48b7-8699-b9a6f82b3c4b",
   "metadata": {},
   "outputs": [
    {
     "name": "stdout",
     "output_type": "stream",
     "text": [
      "x:\n",
      " [[1 2 3]\n",
      " [4 5 6]]\n",
      "x.shape:  (2, 3)\n",
      "y:\n",
      " [[1 4]\n",
      " [2 5]\n",
      " [3 6]]\n",
      "y.shape:  (3, 2)\n"
     ]
    }
   ],
   "source": [
    "x = np.array([[1, 2, 3], [4, 5, 6]])\n",
    "print(\"x:\\n\", x)\n",
    "print(\"x.shape: \", x.shape)\n",
    "y = np.transpose(x, (1, 0))  # flip dimensions at index 0 and 1\n",
    "print(\"y:\\n\", y)\n",
    "print(\"y.shape: \", y.shape)"
   ]
  },
  {
   "cell_type": "markdown",
   "id": "9dcc2adc-b1d9-4738-a476-11095e8906e7",
   "metadata": {},
   "source": [
    "### Reshape"
   ]
  },
  {
   "cell_type": "code",
   "execution_count": 20,
   "id": "20d36025-778b-4f36-8bd1-53d411a80efa",
   "metadata": {},
   "outputs": [
    {
     "name": "stdout",
     "output_type": "stream",
     "text": [
      "[[1 2 3 4 5 6]]\n",
      "x.shape:  (1, 6)\n",
      "y: \n",
      " [[1 2 3]\n",
      " [4 5 6]]\n",
      "y.shape:  (2, 3)\n",
      "z: \n",
      " [[1 2 3]\n",
      " [4 5 6]]\n",
      "z.shape:  (2, 3)\n"
     ]
    }
   ],
   "source": [
    "x = np.array([[1, 2, 3, 4, 5, 6]])\n",
    "print(x)\n",
    "print(\"x.shape: \", x.shape)\n",
    "y = np.reshape(x, (2, 3))\n",
    "print(\"y: \\n\", y)\n",
    "print(\"y.shape: \", y.shape)\n",
    "z = np.reshape(x, (2, -1))\n",
    "print(\"z: \\n\", z)\n",
    "print(\"z.shape: \", z.shape)"
   ]
  },
  {
   "cell_type": "markdown",
   "id": "25fe297e-da4e-49f9-8127-dcb51f63e3f3",
   "metadata": {},
   "source": [
    "### Joining"
   ]
  },
  {
   "cell_type": "code",
   "execution_count": 21,
   "id": "2de51b45-3de7-4187-9959-bb08a1d09f54",
   "metadata": {},
   "outputs": [
    {
     "name": "stdout",
     "output_type": "stream",
     "text": [
      "[[0.06505159 0.94888554 0.96563203]\n",
      " [0.80839735 0.30461377 0.09767211]]\n",
      "(2, 3)\n"
     ]
    }
   ],
   "source": [
    "x = np.random.random((2, 3))\n",
    "print(x)\n",
    "print(x.shape)"
   ]
  },
  {
   "cell_type": "code",
   "execution_count": 22,
   "id": "2bfc340c-c1ea-4a58-908f-05f79f161797",
   "metadata": {},
   "outputs": [
    {
     "name": "stdout",
     "output_type": "stream",
     "text": [
      "[[0.06505159 0.94888554 0.96563203]\n",
      " [0.80839735 0.30461377 0.09767211]\n",
      " [0.06505159 0.94888554 0.96563203]\n",
      " [0.80839735 0.30461377 0.09767211]]\n",
      "(4, 3)\n"
     ]
    }
   ],
   "source": [
    "# Concatenation\n",
    "y = np.concatenate([x, x], axis=0)  # concat on a specified axis\n",
    "print(y)\n",
    "print(y.shape)"
   ]
  },
  {
   "cell_type": "code",
   "execution_count": 23,
   "id": "55cd179c-6f68-48be-ae1c-7a77e23d2336",
   "metadata": {},
   "outputs": [
    {
     "name": "stdout",
     "output_type": "stream",
     "text": [
      "[[[0.06505159 0.94888554 0.96563203]\n",
      "  [0.80839735 0.30461377 0.09767211]]\n",
      "\n",
      " [[0.06505159 0.94888554 0.96563203]\n",
      "  [0.80839735 0.30461377 0.09767211]]]\n",
      "(2, 2, 3)\n"
     ]
    }
   ],
   "source": [
    "# Stacking\n",
    "z = np.stack([x, x], axis=0)  # stack on new axis\n",
    "print(z)\n",
    "print(z.shape)"
   ]
  },
  {
   "cell_type": "markdown",
   "id": "ce7f8405-64e0-4a5d-b845-596973198bc4",
   "metadata": {},
   "source": [
    "### Expanding / Reducing"
   ]
  },
  {
   "cell_type": "code",
   "execution_count": 24,
   "id": "29fd2699-d8fa-41d3-9e7f-c842498b3f0d",
   "metadata": {},
   "outputs": [
    {
     "name": "stdout",
     "output_type": "stream",
     "text": [
      "x:\n",
      " [[1 2 3]\n",
      " [4 5 6]]\n",
      "x.shape:  (2, 3)\n",
      "y: \n",
      " [[[1 2 3]]\n",
      "\n",
      " [[4 5 6]]]\n",
      "y.shape:  (2, 1, 3)\n"
     ]
    }
   ],
   "source": [
    "# Adding dimensions\n",
    "x = np.array([[1, 2, 3], [4, 5, 6]])\n",
    "print(\"x:\\n\", x)\n",
    "print(\"x.shape: \", x.shape)\n",
    "y = np.expand_dims(x, 1)  # expand dim 1\n",
    "print(\"y: \\n\", y)\n",
    "print(\"y.shape: \", y.shape)  # notice extra set of brackets are added"
   ]
  },
  {
   "cell_type": "code",
   "execution_count": 25,
   "id": "5e89fe2b-679c-4493-8d38-f6cfd93988f1",
   "metadata": {},
   "outputs": [
    {
     "name": "stdout",
     "output_type": "stream",
     "text": [
      "x:\n",
      " [[[1 2 3]]\n",
      "\n",
      " [[4 5 6]]]\n",
      "x.shape:  (2, 1, 3)\n",
      "y: \n",
      " [[1 2 3]\n",
      " [4 5 6]]\n",
      "y.shape:  (2, 3)\n"
     ]
    }
   ],
   "source": [
    "# Removing dimensions\n",
    "x = np.array([[[1, 2, 3]], [[4, 5, 6]]])\n",
    "print(\"x:\\n\", x)\n",
    "print(\"x.shape: \", x.shape)\n",
    "y = np.squeeze(x, 1)  # squeeze dim 1\n",
    "print(\"y: \\n\", y)\n",
    "print(\"y.shape: \", y.shape)  # notice extra set of brackets are gone"
   ]
  }
 ],
 "metadata": {
  "kernelspec": {
   "display_name": "Python 3 (ipykernel)",
   "language": "python",
   "name": "python3"
  },
  "language_info": {
   "codemirror_mode": {
    "name": "ipython",
    "version": 3
   },
   "file_extension": ".py",
   "mimetype": "text/x-python",
   "name": "python",
   "nbconvert_exporter": "python",
   "pygments_lexer": "ipython3",
   "version": "3.13.0"
  }
 },
 "nbformat": 4,
 "nbformat_minor": 5
}
